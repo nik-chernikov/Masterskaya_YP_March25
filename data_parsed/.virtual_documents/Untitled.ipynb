import json

import pandas as pd





df = pd.json_normalize('data/example/result.json', max_level=1)


df.head()
