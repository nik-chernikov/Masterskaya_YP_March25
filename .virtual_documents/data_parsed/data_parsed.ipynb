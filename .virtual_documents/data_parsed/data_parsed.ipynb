import json

import pandas as pd


with open('data/example/result.json', 'r', encoding='utf-8') as file:
    data = json.load(file)


df = pd.json_normalize(data, 'messages')


df.head()
